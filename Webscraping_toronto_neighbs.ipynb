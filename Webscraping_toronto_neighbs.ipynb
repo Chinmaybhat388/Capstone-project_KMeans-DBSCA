{
 "cells": [
  {
   "cell_type": "markdown",
   "metadata": {},
   "source": [
    "# Import the required directories"
   ]
  },
  {
   "cell_type": "code",
   "execution_count": 218,
   "metadata": {},
   "outputs": [],
   "source": [
    "from bs4 import BeautifulSoup as soup\n",
    "from urllib.request import urlopen as ureq\n",
    "import pandas as pd\n",
    "import numpy as np\n",
    "import matplotlib.pyplot as plt\n",
    "import csv"
   ]
  },
  {
   "cell_type": "markdown",
   "metadata": {},
   "source": [
    "## Webscrape the neighborhood data from wikipedia"
   ]
  },
  {
   "cell_type": "code",
   "execution_count": 56,
   "metadata": {},
   "outputs": [],
   "source": [
    "# the url of wikipedia page to get data for neighborhoods in toronto\n",
    "url = 'https://en.wikipedia.org/wiki/List_of_postal_codes_of_Canada:_M' \n",
    "                                                                        \n",
    "#download the webpage\n",
    "uclient = ureq(url)\n",
    "\n",
    "#dump the html into a variable. Let's store the html as wikipedia_html\n",
    "wikipedia_html = uclient.read()\n",
    "\n",
    "#close the connection\n",
    "uclient.close\n",
    "\n",
    "#Since the html is now all jumpbled up text,parse the raw html into a variable using beautifulsoup.\n",
    "wikipedia_soup = soup(wikipedia_html, \"html.parser\")"
   ]
  },
  {
   "cell_type": "code",
   "execution_count": 256,
   "metadata": {},
   "outputs": [],
   "source": [
    "#viewing the html wikipedia page\n",
    "#wikipedia_soup"
   ]
  },
  {
   "cell_type": "code",
   "execution_count": 296,
   "metadata": {
    "scrolled": true
   },
   "outputs": [],
   "source": [
    "#The table is contained in 'table' tag with 'class = wikitable'. Let us extract that.\n",
    "table = wikipedia_soup.find('table',{'class':'wikitable'})\n",
    "\n",
    "\n",
    "#table.findAll('tr')[1::1] <----- The output get's too long and hence i've commented it out."
   ]
  },
  {
   "cell_type": "code",
   "execution_count": 297,
   "metadata": {
    "scrolled": true
   },
   "outputs": [
    {
     "data": {
      "text/plain": [
       "<tr>\n",
       "<td>M1A\n",
       "</td>\n",
       "<td>Not assigned\n",
       "</td>\n",
       "<td>\n",
       "</td></tr>"
      ]
     },
     "execution_count": 297,
     "metadata": {},
     "output_type": "execute_result"
    }
   ],
   "source": [
    "#Let's look at what each item that we will loop through using FOR loop looks like.\n",
    "table.findAll('tr')[1::1][0]#.findAll(['td'])[0].text.strip()"
   ]
  },
  {
   "cell_type": "code",
   "execution_count": 245,
   "metadata": {
    "scrolled": false
   },
   "outputs": [
    {
     "name": "stdout",
     "output_type": "stream",
     "text": [
      "Postal codes :['M1A', 'M2A', 'M3A', 'M4A', 'M5A']\n",
      "boroughs :['Not assigned', 'Not assigned', 'North York', 'North York', 'Downtown Toronto']\n",
      "neighborhoods : ['Not assigned', 'Not assigned', 'Parkwoods', 'Victoria Village', 'Regent Park, Harbourfront']\n"
     ]
    }
   ],
   "source": [
    "#Create 3 lists to contain the respective columns of the wiki table\n",
    "Postal_code = []\n",
    "borough = []\n",
    "neighborhood = []\n",
    "\n",
    "for item in table.findAll('tr')[1::1]:\n",
    "    Postal_code.append(item.findAll(['td'])[0].text.strip())\n",
    "    borough.append(item.findAll(['td'])[1].text.strip())\n",
    "    if len(item.findAll(['td'])[2].text.strip()) == 0: #Many neighborhoods are blank in wikipedia table. Fill not assigned for them\n",
    "        neighborhood.append('Not assigned')\n",
    "    else:\n",
    "        neighborhood.append(item.findAll(['td'])[2].text.strip())\n",
    "\n",
    "print(\"Postal codes :{}\".format(Postal_code[0:5]))\n",
    "print(\"boroughs :{}\".format(borough[0:5]))\n",
    "print(\"neighborhoods : {}\".format(neighborhood[0:5]))\n",
    "    "
   ]
  },
  {
   "cell_type": "code",
   "execution_count": 255,
   "metadata": {},
   "outputs": [
    {
     "data": {
      "text/html": [
       "<div>\n",
       "<style scoped>\n",
       "    .dataframe tbody tr th:only-of-type {\n",
       "        vertical-align: middle;\n",
       "    }\n",
       "\n",
       "    .dataframe tbody tr th {\n",
       "        vertical-align: top;\n",
       "    }\n",
       "\n",
       "    .dataframe thead th {\n",
       "        text-align: right;\n",
       "    }\n",
       "</style>\n",
       "<table border=\"1\" class=\"dataframe\">\n",
       "  <thead>\n",
       "    <tr style=\"text-align: right;\">\n",
       "      <th></th>\n",
       "      <th>Postal codes</th>\n",
       "      <th>Boroughs</th>\n",
       "      <th>neighborhoods</th>\n",
       "    </tr>\n",
       "  </thead>\n",
       "  <tbody>\n",
       "    <tr>\n",
       "      <th>0</th>\n",
       "      <td>M1A</td>\n",
       "      <td>Not assigned</td>\n",
       "      <td>Not assigned</td>\n",
       "    </tr>\n",
       "    <tr>\n",
       "      <th>1</th>\n",
       "      <td>M2A</td>\n",
       "      <td>Not assigned</td>\n",
       "      <td>Not assigned</td>\n",
       "    </tr>\n",
       "    <tr>\n",
       "      <th>2</th>\n",
       "      <td>M3A</td>\n",
       "      <td>North York</td>\n",
       "      <td>Parkwoods</td>\n",
       "    </tr>\n",
       "    <tr>\n",
       "      <th>3</th>\n",
       "      <td>M4A</td>\n",
       "      <td>North York</td>\n",
       "      <td>Victoria Village</td>\n",
       "    </tr>\n",
       "    <tr>\n",
       "      <th>4</th>\n",
       "      <td>M5A</td>\n",
       "      <td>Downtown Toronto</td>\n",
       "      <td>Regent Park, Harbourfront</td>\n",
       "    </tr>\n",
       "  </tbody>\n",
       "</table>\n",
       "</div>"
      ],
      "text/plain": [
       "  Postal codes          Boroughs              neighborhoods\n",
       "0          M1A      Not assigned               Not assigned\n",
       "1          M2A      Not assigned               Not assigned\n",
       "2          M3A        North York                  Parkwoods\n",
       "3          M4A        North York           Victoria Village\n",
       "4          M5A  Downtown Toronto  Regent Park, Harbourfront"
      ]
     },
     "execution_count": 255,
     "metadata": {},
     "output_type": "execute_result"
    }
   ],
   "source": [
    "df = pd.DataFrame(list(zip(Postal_code,borough,neighborhood)),columns = [\"Postal codes\",\"Boroughs\",\"neighborhoods\"])\n",
    "\n",
    "#Let's save the dataframe to an excel, for later use\n",
    "\n",
    "df.to_csv('D:\\DATA science\\Coursera Data science\\Toronto_neighborhoods.csv',index=False)\n",
    "\n",
    "df.head()\n"
   ]
  },
  {
   "cell_type": "code",
   "execution_count": 294,
   "metadata": {
    "scrolled": true
   },
   "outputs": [
    {
     "data": {
      "text/html": [
       "<div>\n",
       "<style scoped>\n",
       "    .dataframe tbody tr th:only-of-type {\n",
       "        vertical-align: middle;\n",
       "    }\n",
       "\n",
       "    .dataframe tbody tr th {\n",
       "        vertical-align: top;\n",
       "    }\n",
       "\n",
       "    .dataframe thead th {\n",
       "        text-align: right;\n",
       "    }\n",
       "</style>\n",
       "<table border=\"1\" class=\"dataframe\">\n",
       "  <thead>\n",
       "    <tr style=\"text-align: right;\">\n",
       "      <th></th>\n",
       "      <th>Postal codes</th>\n",
       "      <th>Boroughs</th>\n",
       "      <th>neighborhoods</th>\n",
       "    </tr>\n",
       "  </thead>\n",
       "  <tbody>\n",
       "    <tr>\n",
       "      <th>0</th>\n",
       "      <td>M3A</td>\n",
       "      <td>North York</td>\n",
       "      <td>Parkwoods</td>\n",
       "    </tr>\n",
       "    <tr>\n",
       "      <th>1</th>\n",
       "      <td>M4A</td>\n",
       "      <td>North York</td>\n",
       "      <td>Victoria Village</td>\n",
       "    </tr>\n",
       "    <tr>\n",
       "      <th>2</th>\n",
       "      <td>M5A</td>\n",
       "      <td>Downtown Toronto</td>\n",
       "      <td>Regent Park, Harbourfront</td>\n",
       "    </tr>\n",
       "    <tr>\n",
       "      <th>3</th>\n",
       "      <td>M6A</td>\n",
       "      <td>North York</td>\n",
       "      <td>Lawrence Manor, Lawrence Heights</td>\n",
       "    </tr>\n",
       "    <tr>\n",
       "      <th>4</th>\n",
       "      <td>M7A</td>\n",
       "      <td>Downtown Toronto</td>\n",
       "      <td>Queen's Park, Ontario Provincial Government</td>\n",
       "    </tr>\n",
       "  </tbody>\n",
       "</table>\n",
       "</div>"
      ],
      "text/plain": [
       "  Postal codes          Boroughs                                neighborhoods\n",
       "0          M3A        North York                                    Parkwoods\n",
       "1          M4A        North York                             Victoria Village\n",
       "2          M5A  Downtown Toronto                    Regent Park, Harbourfront\n",
       "3          M6A        North York             Lawrence Manor, Lawrence Heights\n",
       "4          M7A  Downtown Toronto  Queen's Park, Ontario Provincial Government"
      ]
     },
     "execution_count": 294,
     "metadata": {},
     "output_type": "execute_result"
    }
   ],
   "source": [
    "#Let's remove all the boroughs with non assigned values.\n",
    "toronto_df = df[df['Boroughs'] != 'Not assigned']\n",
    "\n",
    "toronto_df.reset_index(inplace=True,drop=True)\n",
    "\n",
    "#toronto_df has no NOT ASSIGNED values.\n",
    "toronto_df.head()"
   ]
  },
  {
   "cell_type": "code",
   "execution_count": 295,
   "metadata": {},
   "outputs": [
    {
     "data": {
      "text/plain": [
       "(103, 3)"
      ]
     },
     "execution_count": 295,
     "metadata": {},
     "output_type": "execute_result"
    }
   ],
   "source": [
    "toronto_df.shape"
   ]
  }
 ],
 "metadata": {
  "kernelspec": {
   "display_name": "Python 3",
   "language": "python",
   "name": "python3"
  },
  "language_info": {
   "codemirror_mode": {
    "name": "ipython",
    "version": 3
   },
   "file_extension": ".py",
   "mimetype": "text/x-python",
   "name": "python",
   "nbconvert_exporter": "python",
   "pygments_lexer": "ipython3",
   "version": "3.7.3"
  }
 },
 "nbformat": 4,
 "nbformat_minor": 2
}
